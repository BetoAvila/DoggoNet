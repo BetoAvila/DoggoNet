{
 "cells": [
  {
   "cell_type": "code",
   "execution_count": null,
   "metadata": {},
   "outputs": [],
   "source": [
    "# importing all necesary libraries always\n",
    "from pathlib import Path\n",
    "from PIL import Image\n",
    "import glob, os\n",
    "import keras as K\n",
    "from keras.models import Sequential\n",
    "from keras.layers import Dense, Dropout, Flatten\n",
    "from keras.layers import Conv2D, MaxPooling2D\n",
    "import numpy as np\n",
    "\n",
    "# Resize images\n",
    "i = 0\n",
    "for infile in glob.glob(\"*.jpg\"):        # for all jpg files\n",
    "    file, ext = os.path.splitext(infile)\n",
    "    im = Image.open(infile)              # open them\n",
    "    if 'jack' in infile.lower():         # lowercase their names\n",
    "        perrito = 'Jack'\n",
    "    if 'volt' in infile.lower():\n",
    "        perrito = 'Volt'\n",
    "    if 'luna' in infile.lower():\n",
    "        perrito = 'Luna'\n",
    "    if 'katy' in infile.lower():\n",
    "        perrito = 'Katy'\n",
    "    im.resize((1024,768))\\               # resize them and save them\n",
    "            .save(fp='/home/beto/Desktop/perritos/{}{}.jpeg'.format(perrito,i), format='jpeg')    \n",
    "    i += 1"
   ]
  }
 ],
 "metadata": {
  "kernelspec": {
   "display_name": "Python 3.6",
   "language": "python",
   "name": "python3"
  },
  "language_info": {
   "codemirror_mode": {
    "name": "ipython",
    "version": 3
   },
   "file_extension": ".py",
   "mimetype": "text/x-python",
   "name": "python",
   "nbconvert_exporter": "python",
   "pygments_lexer": "ipython3",
   "version": "3.6.9"
  }
 },
 "nbformat": 4,
 "nbformat_minor": 4
}
