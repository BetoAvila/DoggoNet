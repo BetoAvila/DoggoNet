{
 "cells": [
  {
   "cell_type": "code",
   "execution_count": 2,
   "id": "configured-frank",
   "metadata": {},
   "outputs": [
    {
     "name": "stdout",
     "output_type": "stream",
     "text": [
      "['X_train', 'X_test', 'y_train', 'y_test']\n",
      "(3400, 240, 320, 3)\n",
      "2\n",
      "Model: \"sequential_1\"\n",
      "_________________________________________________________________\n",
      "Layer (type)                 Output Shape              Param #   \n",
      "=================================================================\n",
      "conv2d_2 (Conv2D)            (None, 238, 318, 32)      896       \n",
      "_________________________________________________________________\n",
      "max_pooling2d_2 (MaxPooling2 (None, 119, 159, 32)      0         \n",
      "_________________________________________________________________\n",
      "conv2d_3 (Conv2D)            (None, 117, 157, 64)      18496     \n",
      "_________________________________________________________________\n",
      "max_pooling2d_3 (MaxPooling2 (None, 58, 78, 64)        0         \n",
      "_________________________________________________________________\n",
      "flatten_1 (Flatten)          (None, 289536)            0         \n",
      "_________________________________________________________________\n",
      "dropout_1 (Dropout)          (None, 289536)            0         \n",
      "_________________________________________________________________\n",
      "dense_1 (Dense)              (None, 4)                 1158148   \n",
      "=================================================================\n",
      "Total params: 1,177,540\n",
      "Trainable params: 1,177,540\n",
      "Non-trainable params: 0\n",
      "_________________________________________________________________\n",
      "ready\n"
     ]
    }
   ],
   "source": [
    "from PIL import Image\n",
    "from tensorflow import keras\n",
    "from tensorflow.keras import layers\n",
    "import numpy as np\n",
    "\n",
    "dn_input = np.load('/home/beto/Documents/projects/DoggoNet/DN-dataset.npz')\n",
    "print(dn_input.files)\n",
    "\n",
    "x_train = dn_input['X_train']\n",
    "x_test = dn_input['X_test']\n",
    "y_train = dn_input['y_train']\n",
    "y_test = dn_input['y_test']\n",
    "\n",
    "print(x_train.shape)\n",
    "\n",
    "etiqueta=dn_input['y_train'][1200]\n",
    "print(etiqueta[0])\n",
    "\n",
    "foto=dn_input['X_train'][1200]\n",
    "foto = np.multiply(foto, 255).astype(np.int8)\n",
    "Image.fromarray(foto, 'RGB').show()\n",
    "\n",
    "# convert class\n",
    "num_classes = 4\n",
    "y_train = keras.utils.to_categorical(y_train, num_classes)\n",
    "y_test = keras.utils.to_categorical(y_test, num_classes)\n",
    "\n",
    "# Define model\n",
    "model = keras.Sequential(\n",
    "    [\n",
    "        keras.Input(shape=(240,320,3)),\n",
    "        layers.Conv2D(32, kernel_size=(3, 3), activation=\"relu\"),\n",
    "        layers.MaxPooling2D(pool_size=(2, 2)),\n",
    "        layers.Conv2D(64, kernel_size=(3, 3), activation=\"relu\"),\n",
    "        layers.MaxPooling2D(pool_size=(2, 2)),\n",
    "        layers.Flatten(),\n",
    "        layers.Dropout(0.5),\n",
    "        layers.Dense(num_classes, activation=\"softmax\")\n",
    "    ]\n",
    ")\n",
    "model.summary()\n",
    "\n",
    "batch_size = 200\n",
    "epochs = 15\n",
    "\n",
    "model.compile(loss=\"categorical_crossentropy\", optimizer=\"adam\", metrics=[\"accuracy\"])\n",
    "print('ready')"
   ]
  },
  {
   "cell_type": "code",
   "execution_count": 3,
   "id": "lined-carry",
   "metadata": {},
   "outputs": [
    {
     "name": "stdout",
     "output_type": "stream",
     "text": [
      "Epoch 1/15\n",
      "16/16 [==============================] - 104s 6s/step - loss: 3.4729 - accuracy: 0.3127 - val_loss: 1.0949 - val_accuracy: 0.6353\n",
      "Epoch 2/15\n",
      "16/16 [==============================] - 113s 7s/step - loss: 0.8118 - accuracy: 0.7114 - val_loss: 0.5847 - val_accuracy: 0.8647\n",
      "Epoch 3/15\n",
      "16/16 [==============================] - 113s 7s/step - loss: 0.4257 - accuracy: 0.8722 - val_loss: 0.3505 - val_accuracy: 0.8941\n",
      "Epoch 4/15\n",
      "16/16 [==============================] - 115s 7s/step - loss: 0.2842 - accuracy: 0.9072 - val_loss: 0.2845 - val_accuracy: 0.9294\n",
      "Epoch 5/15\n",
      "16/16 [==============================] - 118s 7s/step - loss: 0.1721 - accuracy: 0.9565 - val_loss: 0.2014 - val_accuracy: 0.9265\n",
      "Epoch 6/15\n",
      "16/16 [==============================] - 116s 7s/step - loss: 0.1057 - accuracy: 0.9742 - val_loss: 0.1998 - val_accuracy: 0.9353\n",
      "Epoch 7/15\n",
      "16/16 [==============================] - 117s 7s/step - loss: 0.0739 - accuracy: 0.9843 - val_loss: 0.1435 - val_accuracy: 0.9529\n",
      "Epoch 8/15\n",
      "16/16 [==============================] - 121s 8s/step - loss: 0.0475 - accuracy: 0.9915 - val_loss: 0.1330 - val_accuracy: 0.9618\n",
      "Epoch 9/15\n",
      "16/16 [==============================] - 121s 8s/step - loss: 0.0327 - accuracy: 0.9954 - val_loss: 0.1439 - val_accuracy: 0.9529\n",
      "Epoch 10/15\n",
      "16/16 [==============================] - 125s 8s/step - loss: 0.0285 - accuracy: 0.9964 - val_loss: 0.1163 - val_accuracy: 0.9647\n",
      "Epoch 11/15\n",
      "16/16 [==============================] - 119s 7s/step - loss: 0.0171 - accuracy: 0.9990 - val_loss: 0.1072 - val_accuracy: 0.9647\n",
      "Epoch 12/15\n",
      "16/16 [==============================] - 129s 8s/step - loss: 0.0143 - accuracy: 0.9990 - val_loss: 0.1029 - val_accuracy: 0.9618\n",
      "Epoch 13/15\n",
      "16/16 [==============================] - 117s 7s/step - loss: 0.0091 - accuracy: 0.9993 - val_loss: 0.0932 - val_accuracy: 0.9618\n",
      "Epoch 14/15\n",
      "16/16 [==============================] - 117s 7s/step - loss: 0.0066 - accuracy: 1.0000 - val_loss: 0.0971 - val_accuracy: 0.9588\n",
      "Epoch 15/15\n",
      "16/16 [==============================] - 121s 8s/step - loss: 0.0056 - accuracy: 1.0000 - val_loss: 0.0923 - val_accuracy: 0.9647\n"
     ]
    },
    {
     "data": {
      "text/plain": [
       "<tensorflow.python.keras.callbacks.History at 0x7fe2dc6cacf8>"
      ]
     },
     "execution_count": 3,
     "metadata": {},
     "output_type": "execute_result"
    }
   ],
   "source": [
    "model.fit(x_train, y_train, batch_size=batch_size, epochs=epochs, validation_split=0.1)"
   ]
  },
  {
   "cell_type": "code",
   "execution_count": 5,
   "id": "disciplinary-underground",
   "metadata": {},
   "outputs": [],
   "source": [
    "model.save_weights('weights_CMCMFDrD_22feb')"
   ]
  },
  {
   "cell_type": "code",
   "execution_count": null,
   "id": "bearing-character",
   "metadata": {},
   "outputs": [],
   "source": []
  }
 ],
 "metadata": {
  "kernelspec": {
   "display_name": "Python 3",
   "language": "python",
   "name": "python3"
  },
  "language_info": {
   "codemirror_mode": {
    "name": "ipython",
    "version": 3
   },
   "file_extension": ".py",
   "mimetype": "text/x-python",
   "name": "python",
   "nbconvert_exporter": "python",
   "pygments_lexer": "ipython3",
   "version": "3.6.12"
  }
 },
 "nbformat": 4,
 "nbformat_minor": 5
}
