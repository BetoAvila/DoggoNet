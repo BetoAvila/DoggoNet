{
 "cells": [
  {
   "cell_type": "code",
   "execution_count": 1,
   "id": "careful-legislation",
   "metadata": {},
   "outputs": [],
   "source": [
    "from PIL import Image\n",
    "import tensorflow as tf\n",
    "from tensorflow import keras\n",
    "from tensorflow.keras import layers\n",
    "import numpy as np\n",
    "import os\n",
    "os.environ[\"CUDA_VISIBLE_DEVICES\"]=\"-1\" \n",
    "\n",
    "config = tf.compat.v1.ConfigProto()\n",
    "config.gpu_options.allow_growth = True\n",
    "sess = tf.compat.v1.InteractiveSession(config=config)"
   ]
  },
  {
   "cell_type": "code",
   "execution_count": 2,
   "id": "environmental-dynamics",
   "metadata": {
    "pycharm": {
     "name": "#%%\n"
    }
   },
   "outputs": [
    {
     "name": "stdout",
     "output_type": "stream",
     "text": [
      "Training set shape: (3400, 225, 300, 3)\n",
      "Testing set shape: (600, 225, 300, 3)\n",
      "Model: \"sequential\"\n",
      "_________________________________________________________________\n",
      "Layer (type)                 Output Shape              Param #   \n",
      "=================================================================\n",
      "conv2d (Conv2D)              (None, 223, 298, 32)      896       \n",
      "_________________________________________________________________\n",
      "max_pooling2d (MaxPooling2D) (None, 111, 149, 32)      0         \n",
      "_________________________________________________________________\n",
      "conv2d_1 (Conv2D)            (None, 109, 147, 64)      18496     \n",
      "_________________________________________________________________\n",
      "max_pooling2d_1 (MaxPooling2 (None, 54, 73, 64)        0         \n",
      "_________________________________________________________________\n",
      "flatten (Flatten)            (None, 252288)            0         \n",
      "_________________________________________________________________\n",
      "dropout (Dropout)            (None, 252288)            0         \n",
      "_________________________________________________________________\n",
      "dense (Dense)                (None, 4)                 1009156   \n",
      "=================================================================\n",
      "Total params: 1,028,548\n",
      "Trainable params: 1,028,548\n",
      "Non-trainable params: 0\n",
      "_________________________________________________________________\n",
      "\n",
      "\n",
      "-------------------- MODEL COMPILED AND READY --------------------\n",
      "\n"
     ]
    }
   ],
   "source": [
    "# Importing data\n",
    "dn_input = np.load('/home/beto/Documents/projects/DoggoNet/DN-dataset.npz')\n",
    "\n",
    "x_train = dn_input['X_train']\n",
    "x_test = dn_input['X_test']\n",
    "y_train = dn_input['y_train']\n",
    "y_test = dn_input['y_test']\n",
    "\n",
    "print('Training set shape:', x_train.shape)\n",
    "print('Testing set shape:', x_test.shape)\n",
    "\n",
    "# Selecting an example\n",
    "# etiqueta = dn_input['y_train'][1200]\n",
    "# print(etiqueta[0])\n",
    "# foto = dn_input['X_train'][1200]\n",
    "# foto = np.multiply(foto, 255).astype(np.int8)\n",
    "# Image.fromarray(foto, 'RGB').show()\n",
    "\n",
    "# convert class\n",
    "num_classes = 4\n",
    "y_train = keras.utils.to_categorical(y_train, num_classes)\n",
    "y_test = keras.utils.to_categorical(y_test, num_classes)\n",
    "\n",
    "# Model initialization\n",
    "model = keras.Sequential([keras.Input(shape=(240, 320, 3))])\n",
    "\n",
    "\n",
    "# Defining building blocks\n",
    "def add_conv_lyr(num_neurons, k_size, act_func, times=1):\n",
    "    for i in range(times):\n",
    "        model.add(layers.Conv2D(num_neurons, kernel_size=k_size, activation=act_func))\n",
    "\n",
    "\n",
    "def add_max_pool_lyr(p_size, times=1):\n",
    "    for i in range(times):\n",
    "        model.add(layers.MaxPooling2D(pool_size=p_size))\n",
    "\n",
    "\n",
    "def add_dense_lyr(num_neurons, act_func, times=1):\n",
    "    for i in range(times):\n",
    "        model.add(layers.Dense(num_neurons, activation=act_func))\n",
    "\n",
    "\n",
    "# Adding logic to the model\n",
    "add_conv_lyr(64, (3, 3), 'relu', 2)\n",
    "add_max_pool_lyr((2, 2))\n",
    "add_conv_lyr(64, (3, 3), 'relu', 2)\n",
    "add_max_pool_lyr((2, 2))\n",
    "\n",
    "add_dense_lyr(100, 'tanh', 3)\n",
    "\n",
    "# Ending model\n",
    "model.add(layers.Flatten())\n",
    "model.add(layers.Dropout(0.5))\n",
    "add_dense_lyr(num_classes, 'softmax')\n",
    "model.summary()\n",
    "\n",
    "batch_size = 100\n",
    "epochs = 12\n",
    "\n",
    "model.compile(loss=\"categorical_crossentropy\", optimizer=\"adam\", metrics=[\"accuracy\"])\n",
    "print('\\n-------------------- MODEL COMPILED AND READY --------------------\\n\\n')"
   ]
  },
  {
   "cell_type": "code",
   "execution_count": 3,
   "id": "appreciated-clinic",
   "metadata": {
    "collapsed": false,
    "jupyter": {
     "outputs_hidden": false
    },
    "pycharm": {
     "name": "#%%\n"
    }
   },
   "outputs": [
    {
     "name": "stdout",
     "output_type": "stream",
     "text": [
      "Epoch 1/12\n",
      "153/153 [==============================] - 90s 589ms/step - loss: 0.7092 - accuracy: 0.7487 - val_loss: 0.2213 - val_accuracy: 0.9176\n",
      "Epoch 2/12\n",
      "153/153 [==============================] - 91s 597ms/step - loss: 0.1314 - accuracy: 0.9611 - val_loss: 0.1145 - val_accuracy: 0.9618\n",
      "Epoch 3/12\n",
      "153/153 [==============================] - 93s 608ms/step - loss: 0.0499 - accuracy: 0.9863 - val_loss: 0.1059 - val_accuracy: 0.9618\n",
      "Epoch 4/12\n",
      "153/153 [==============================] - 92s 602ms/step - loss: 0.0241 - accuracy: 0.9935 - val_loss: 0.2413 - val_accuracy: 0.9500\n",
      "Epoch 5/12\n",
      "153/153 [==============================] - 93s 605ms/step - loss: 0.0153 - accuracy: 0.9958 - val_loss: 0.0935 - val_accuracy: 0.9735\n",
      "Epoch 6/12\n",
      "153/153 [==============================] - 92s 602ms/step - loss: 0.0070 - accuracy: 0.9984 - val_loss: 0.0781 - val_accuracy: 0.9706\n",
      "Epoch 7/12\n",
      "153/153 [==============================] - 92s 601ms/step - loss: 0.1423 - accuracy: 0.9526 - val_loss: 0.3458 - val_accuracy: 0.8824\n",
      "Epoch 8/12\n",
      "153/153 [==============================] - 92s 599ms/step - loss: 0.0387 - accuracy: 0.9895 - val_loss: 0.1323 - val_accuracy: 0.9618\n",
      "Epoch 9/12\n",
      "153/153 [==============================] - 92s 603ms/step - loss: 0.0085 - accuracy: 0.9977 - val_loss: 0.0970 - val_accuracy: 0.9765\n",
      "Epoch 10/12\n",
      "153/153 [==============================] - 92s 601ms/step - loss: 0.0026 - accuracy: 0.9997 - val_loss: 0.0995 - val_accuracy: 0.9735\n",
      "Epoch 11/12\n",
      "153/153 [==============================] - 92s 602ms/step - loss: 6.6095e-04 - accuracy: 1.0000 - val_loss: 0.1082 - val_accuracy: 0.9735\n",
      "Epoch 12/12\n",
      "153/153 [==============================] - 92s 603ms/step - loss: 3.5848e-04 - accuracy: 1.0000 - val_loss: 0.1056 - val_accuracy: 0.9735\n"
     ]
    },
    {
     "data": {
      "text/plain": [
       "<tensorflow.python.keras.callbacks.History at 0x7f76580e6b70>"
      ]
     },
     "execution_count": 3,
     "metadata": {},
     "output_type": "execute_result"
    }
   ],
   "source": [
    "model.fit(x_train, y_train, batch_size=batch_size, epochs=epochs, validation_split=0.1)"
   ]
  },
  {
   "cell_type": "raw",
   "id": "beautiful-homeless",
   "metadata": {},
   "source": [
    "import tensorflow as tf\n",
    "if tf.test.gpu_device_name():\n",
    "    print('Default GPU Device: {}'.format(tf.test.gpu_device_name()))\n",
    "else:\n",
    "    print(\"Please install GPU version of TF\")\n",
    "keras.backend.clear_session()"
   ]
  },
  {
   "cell_type": "code",
   "execution_count": 4,
   "id": "canadian-homework",
   "metadata": {
    "collapsed": false,
    "jupyter": {
     "outputs_hidden": false
    },
    "pycharm": {
     "name": "#%%\n"
    }
   },
   "outputs": [],
   "source": [
    "keras.backend.clear_session()"
   ]
  },
  {
   "cell_type": "code",
   "execution_count": null,
   "id": "physical-poultry",
   "metadata": {},
   "outputs": [],
   "source": []
  }
 ],
 "metadata": {
  "kernelspec": {
   "display_name": "Python 3",
   "language": "python",
   "name": "python3"
  },
  "language_info": {
   "codemirror_mode": {
    "name": "ipython",
    "version": 3
   },
   "file_extension": ".py",
   "mimetype": "text/x-python",
   "name": "python",
   "nbconvert_exporter": "python",
   "pygments_lexer": "ipython3",
   "version": "3.6.12"
  }
 },
 "nbformat": 4,
 "nbformat_minor": 5
}