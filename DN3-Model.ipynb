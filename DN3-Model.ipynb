{
 "cells": [
  {
   "cell_type": "code",
   "execution_count": 1,
   "id": "steady-sailing",
   "metadata": {},
   "outputs": [],
   "source": [
    "from PIL import Image\n",
    "import tensorflow as tf\n",
    "from tensorflow import keras\n",
    "from tensorflow.keras import layers\n",
    "import numpy as np"
   ]
  },
  {
   "cell_type": "code",
   "execution_count": 2,
   "id": "hidden-firewall",
   "metadata": {},
   "outputs": [],
   "source": [
    "import os\n",
    "os.environ[\"CUDA_VISIBLE_DEVICES\"]=\"-1\" \n",
    "config = tf.compat.v1.ConfigProto()\n",
    "config.gpu_options.allow_growth = True\n",
    "sess = tf.compat.v1.InteractiveSession(config=config)"
   ]
  },
  {
   "cell_type": "code",
   "execution_count": 3,
   "id": "intense-sally",
   "metadata": {
    "pycharm": {
     "name": "#%%\n"
    }
   },
   "outputs": [
    {
     "name": "stdout",
     "output_type": "stream",
     "text": [
      "Training set shape: (3400, 225, 300, 3)\n",
      "Testing set shape: (600, 225, 300, 3)\n",
      "Model: \"sequential\"\n",
      "_________________________________________________________________\n",
      "Layer (type)                 Output Shape              Param #   \n",
      "=================================================================\n",
      "conv2d (Conv2D)              (None, 215, 290, 64)      23296     \n",
      "_________________________________________________________________\n",
      "max_pooling2d (MaxPooling2D) (None, 53, 72, 64)        0         \n",
      "_________________________________________________________________\n",
      "conv2d_1 (Conv2D)            (None, 47, 66, 48)        150576    \n",
      "_________________________________________________________________\n",
      "max_pooling2d_1 (MaxPooling2 (None, 15, 22, 48)        0         \n",
      "_________________________________________________________________\n",
      "conv2d_2 (Conv2D)            (None, 13, 20, 32)        13856     \n",
      "_________________________________________________________________\n",
      "max_pooling2d_2 (MaxPooling2 (None, 6, 10, 32)         0         \n",
      "_________________________________________________________________\n",
      "flatten (Flatten)            (None, 1920)              0         \n",
      "_________________________________________________________________\n",
      "dropout (Dropout)            (None, 1920)              0         \n",
      "_________________________________________________________________\n",
      "dense (Dense)                (None, 64)                122944    \n",
      "_________________________________________________________________\n",
      "dense_1 (Dense)              (None, 64)                4160      \n",
      "_________________________________________________________________\n",
      "dense_2 (Dense)              (None, 64)                4160      \n",
      "_________________________________________________________________\n",
      "dense_3 (Dense)              (None, 4)                 260       \n",
      "=================================================================\n",
      "Total params: 319,252\n",
      "Trainable params: 319,252\n",
      "Non-trainable params: 0\n",
      "_________________________________________________________________\n",
      "\n",
      "-------------------- MODEL COMPILED AND READY --------------------\n",
      "\n",
      "\n"
     ]
    }
   ],
   "source": [
    "# Importing data\n",
    "dn_input = np.load('/home/beto/Documents/projects/DoggoNet/DN-dataset.npz')\n",
    "\n",
    "x_train = dn_input['X_train']\n",
    "x_test = dn_input['X_test']\n",
    "y_train = dn_input['y_train']\n",
    "y_test = dn_input['y_test']\n",
    "\n",
    "print('Training set shape:', x_train.shape)\n",
    "print('Testing set shape:', x_test.shape)\n",
    "\n",
    "# convert class\n",
    "num_classes = 4\n",
    "y_train = keras.utils.to_categorical(y_train, num_classes)\n",
    "y_test = keras.utils.to_categorical(y_test, num_classes)\n",
    "\n",
    "# Model initialization\n",
    "model = keras.Sequential([keras.Input(shape=(225, 300, 3))])\n",
    "\n",
    "\n",
    "# Defining building blocks\n",
    "def add_conv_lyr(num_neurons, k_size, act_func, times=1):\n",
    "    for i in range(times):\n",
    "        model.add(layers.Conv2D(num_neurons, kernel_size=k_size, activation=act_func))\n",
    "\n",
    "\n",
    "def add_max_pool_lyr(p_size, times=1):\n",
    "    for i in range(times):\n",
    "        model.add(layers.MaxPooling2D(pool_size=p_size))\n",
    "\n",
    "\n",
    "def add_dense_lyr(num_neurons, act_func, times=1):\n",
    "    for i in range(times):\n",
    "        model.add(layers.Dense(num_neurons, activation=act_func))\n",
    "\n",
    "\n",
    "# Adding logic to the model\n",
    "add_conv_lyr(64, (11, 11), 'relu', 1)\n",
    "add_max_pool_lyr((4, 4))\n",
    "add_conv_lyr(48, (7, 7), 'relu', 1)\n",
    "add_max_pool_lyr((3, 3))\n",
    "add_conv_lyr(32, (3, 3), 'relu', 1)\n",
    "add_max_pool_lyr((2, 2))\n",
    "model.add(layers.Flatten())\n",
    "model.add(layers.Dropout(0.2))\n",
    "add_dense_lyr(64, 'relu', 3)\n",
    "\n",
    "# Ending model\n",
    "add_dense_lyr(num_classes, 'softmax')\n",
    "model.summary()\n",
    "\n",
    "batch_size = 34 * 2\n",
    "epochs = 15\n",
    "\n",
    "opt = keras.optimizers.Adam(learning_rate=0.0013, beta_1=0.87, beta_2=0.9, epsilon=1.9e-07)\n",
    "\n",
    "model.compile(loss=\"categorical_crossentropy\", optimizer=opt, metrics=[\"accuracy\"])\n",
    "print('\\n-------------------- MODEL COMPILED AND READY --------------------\\n\\n')"
   ]
  },
  {
   "cell_type": "code",
   "execution_count": 7,
   "id": "reduced-legend",
   "metadata": {
    "collapsed": false,
    "jupyter": {
     "outputs_hidden": false
    },
    "pycharm": {
     "name": "#%%\n"
    }
   },
   "outputs": [
    {
     "name": "stdout",
     "output_type": "stream",
     "text": [
      "Epoch 1/15\n",
      "42/42 [==============================] - 334s 8s/step - loss: 0.0088 - accuracy: 0.9968 - val_loss: 0.0814 - val_accuracy: 0.9850\n",
      "Epoch 2/15\n",
      "42/42 [==============================] - 339s 8s/step - loss: 0.0378 - accuracy: 0.9875 - val_loss: 0.1096 - val_accuracy: 0.9583\n",
      "Epoch 3/15\n",
      "42/42 [==============================] - 370s 9s/step - loss: 0.0356 - accuracy: 0.9886 - val_loss: 0.0310 - val_accuracy: 0.9917\n",
      "Epoch 4/15\n",
      "42/42 [==============================] - 348s 8s/step - loss: 0.0206 - accuracy: 0.9932 - val_loss: 0.0415 - val_accuracy: 0.9883\n",
      "Epoch 5/15\n",
      "42/42 [==============================] - 346s 8s/step - loss: 0.0089 - accuracy: 0.9971 - val_loss: 0.0481 - val_accuracy: 0.9900\n",
      "Epoch 6/15\n",
      "42/42 [==============================] - 347s 8s/step - loss: 0.0067 - accuracy: 0.9975 - val_loss: 0.0683 - val_accuracy: 0.9817\n",
      "Epoch 7/15\n",
      "42/42 [==============================] - 374s 9s/step - loss: 0.0238 - accuracy: 0.9914 - val_loss: 0.0523 - val_accuracy: 0.9900\n",
      "Epoch 8/15\n",
      "42/42 [==============================] - 344s 8s/step - loss: 0.0117 - accuracy: 0.9964 - val_loss: 0.0305 - val_accuracy: 0.9917\n",
      "Epoch 9/15\n",
      "42/42 [==============================] - 341s 8s/step - loss: 0.0429 - accuracy: 0.9839 - val_loss: 0.1668 - val_accuracy: 0.9500\n",
      "Epoch 10/15\n",
      "42/42 [==============================] - 337s 8s/step - loss: 0.0911 - accuracy: 0.9736 - val_loss: 0.0390 - val_accuracy: 0.9917\n",
      "Epoch 11/15\n",
      "42/42 [==============================] - 353s 8s/step - loss: 0.0117 - accuracy: 0.9961 - val_loss: 0.0445 - val_accuracy: 0.9900\n",
      "Epoch 12/15\n",
      "42/42 [==============================] - 377s 9s/step - loss: 0.0357 - accuracy: 0.9886 - val_loss: 0.0318 - val_accuracy: 0.9917\n",
      "Epoch 13/15\n",
      "42/42 [==============================] - 354s 8s/step - loss: 0.0155 - accuracy: 0.9946 - val_loss: 0.0415 - val_accuracy: 0.9867\n",
      "Epoch 14/15\n",
      "42/42 [==============================] - 365s 9s/step - loss: 0.0143 - accuracy: 0.9946 - val_loss: 0.0658 - val_accuracy: 0.9783\n",
      "Epoch 15/15\n",
      "42/42 [==============================] - 358s 9s/step - loss: 0.0045 - accuracy: 0.9989 - val_loss: 0.0384 - val_accuracy: 0.9900\n",
      "90.25484129985173 minutes\n"
     ]
    }
   ],
   "source": [
    "import time\n",
    "start_time = time.time()\n",
    "model.fit(x_train, y_train, batch_size=batch_size, epochs=epochs, validation_split=1.5/8.5)\n",
    "print((time.time() - start_time) / 60, 'minutes')"
   ]
  },
  {
   "cell_type": "raw",
   "id": "worldwide-lending",
   "metadata": {},
   "source": [
    "# Testing trained model\n",
    "def pick_image(num, dataset):\n",
    "    d = {0:'Jack',1:'Luna',2:'Volt',3:'Katy'}\n",
    "    if dataset == 'train':\n",
    "        etiqueta = dn_input['y_train'][num]\n",
    "        foto = dn_input['X_train'][num]\n",
    "    elif dataset == 'test':\n",
    "        etiqueta = dn_input['y_test'][num]\n",
    "        foto = dn_input['X_test'][num]\n",
    "    foto = np.multiply(foto, 255).astype(np.int8)\n",
    "    print('This is: {}\\nShowing image from {}ing set'.format(d[etiqueta[0]], dataset))\n",
    "    Image.fromarray(foto, 'RGB').show()\n",
    "\n",
    "def test_image(num):\n",
    "    d = {0:'Jack',1:'Luna',2:'Volt',3:'Katy'}\n",
    "    etiqueta = dn_input['y_test'][num]\n",
    "    foto = dn_input['X_test'][num]\n",
    "    foto = np.multiply(foto, 255).astype(np.int8)\n",
    "    result = model.predict(dn_input['X_test'][num].reshape(1,225,300,3)).flatten()\n",
    "    val = result.max()\n",
    "    i = np.where(np.isclose(result, val))[0][0]    \n",
    "    print('Neural network predicts this is {}\\nShowing image to compare'.format(d[i]))\n",
    "    Image.fromarray(foto, 'RGB').show()"
   ]
  },
  {
   "cell_type": "raw",
   "id": "dense-official",
   "metadata": {},
   "source": [
    "test_image(15) # select from 0 to 599"
   ]
  },
  {
   "cell_type": "raw",
   "id": "christian-coverage",
   "metadata": {},
   "source": [
    "model.save(\n",
    "    'model_03mar21_9900_h5',\n",
    "    overwrite=True,\n",
    "    include_optimizer=True,\n",
    "    save_format='h5',\n",
    "    signatures=None,\n",
    "    options=None\n",
    ")"
   ]
  },
  {
   "cell_type": "code",
   "execution_count": null,
   "id": "floating-velvet",
   "metadata": {},
   "outputs": [],
   "source": []
  }
 ],
 "metadata": {
  "kernelspec": {
   "display_name": "Python 3",
   "language": "python",
   "name": "python3"
  },
  "language_info": {
   "codemirror_mode": {
    "name": "ipython",
    "version": 3
   },
   "file_extension": ".py",
   "mimetype": "text/x-python",
   "name": "python",
   "nbconvert_exporter": "python",
   "pygments_lexer": "ipython3",
   "version": "3.6.12"
  }
 },
 "nbformat": 4,
 "nbformat_minor": 5
}
