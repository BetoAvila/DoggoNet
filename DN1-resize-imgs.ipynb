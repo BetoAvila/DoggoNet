{
 "cells": [
  {
   "cell_type": "code",
   "execution_count": 2,
   "metadata": {},
   "outputs": [
    {
     "name": "stdout",
     "output_type": "stream",
     "text": [
      "1 out of 10\n",
      "2 out of 10\n",
      "3 out of 10\n",
      "4 out of 10\n",
      "5 out of 10\n",
      "6 out of 10\n",
      "7 out of 10\n",
      "8 out of 10\n",
      "9 out of 10\n",
      "10 out of 10\n"
     ]
    }
   ],
   "source": [
    "# importing all necesary libraries always\n",
    "from pathlib import Path\n",
    "from PIL import Image\n",
    "import glob, os\n",
    "import keras as K\n",
    "from keras.models import Sequential\n",
    "from keras.layers import Dense, Dropout, Flatten\n",
    "from keras.layers import Conv2D, MaxPooling2D\n",
    "import numpy as np\n",
    "\n",
    "# Resize images\n",
    "path = \"/home/beto/Documents/projects/DoggoNet/\"\n",
    "size = (320, 240)\n",
    "i = 1\n",
    "for infile in glob.glob(path + \"perritos_org/*.jpeg\"): # for all jpg files\n",
    "    file, ext = os.path.splitext(infile)\n",
    "    im = Image.open(infile)              # open them\n",
    "    if 'jack' in file.lower():         # lowercase their names\n",
    "        perrito = 'jack'\n",
    "    elif 'volt' in file.lower():\n",
    "        perrito = 'volt'\n",
    "    elif 'luna' in file.lower():\n",
    "        perrito = 'luna'\n",
    "    elif 'katy' in file.lower():\n",
    "        perrito = 'katy'                 \n",
    "    \n",
    "    # resize them and save them\n",
    "    if im.height > im.width:\n",
    "        im.transpose(Image.ROTATE_90).resize(size)\\\n",
    "        .save(fp = path + 'perritos/{}{}.jpeg'.format(perrito,i), format='jpeg')\n",
    "    else:\n",
    "        im.resize(size)\\\n",
    "        .save(fp = path + 'perritos/{}{}.jpeg'.format(perrito,i), format='jpeg')    \n",
    "    if i % 400 == 0: print(i // 400, 'out of', 10)\n",
    "    i += 1"
   ]
  },
  {
   "cell_type": "code",
   "execution_count": null,
   "metadata": {},
   "outputs": [],
   "source": []
  }
 ],
 "metadata": {
  "kernelspec": {
   "display_name": "Python 3",
   "language": "python",
   "name": "python3"
  },
  "language_info": {
   "codemirror_mode": {
    "name": "ipython",
    "version": 3
   },
   "file_extension": ".py",
   "mimetype": "text/x-python",
   "name": "python",
   "nbconvert_exporter": "python",
   "pygments_lexer": "ipython3",
   "version": "3.6.12"
  }
 },
 "nbformat": 4,
 "nbformat_minor": 4
}
