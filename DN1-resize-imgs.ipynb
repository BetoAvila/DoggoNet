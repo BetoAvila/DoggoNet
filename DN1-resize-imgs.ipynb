{
 "cells": [
  {
   "cell_type": "code",
   "execution_count": 6,
   "metadata": {},
   "outputs": [
    {
     "name": "stdout",
     "output_type": "stream",
     "text": [
      "1\n",
      "2\n",
      "3\n",
      "4\n",
      "5\n",
      "6\n",
      "7\n",
      "8\n",
      "9\n",
      "10\n"
     ]
    }
   ],
   "source": [
    "# importing all necesary libraries always\n",
    "from pathlib import Path\n",
    "from PIL import Image\n",
    "import glob, os\n",
    "import keras as K\n",
    "from keras.models import Sequential\n",
    "from keras.layers import Dense, Dropout, Flatten\n",
    "from keras.layers import Conv2D, MaxPooling2D\n",
    "import numpy as np\n",
    "\n",
    "# Resize images\n",
    "path = \"/home/beto/Documents/Katy/\"\n",
    "i = 1\n",
    "for infile in glob.glob(path + \"*.jpg\"): # for all jpg files\n",
    "    file, ext = os.path.splitext(infile)\n",
    "    im = Image.open(infile)              # open them\n",
    "    if 'jack' in path.lower():         # lowercase their names\n",
    "        perrito = 'jack'\n",
    "    if 'volt' in path.lower():\n",
    "        perrito = 'volt'\n",
    "    if 'luna' in path.lower():\n",
    "        perrito = 'luna'\n",
    "    if 'katy' in path.lower():\n",
    "        perrito = 'katy'                 # resize them and save them\n",
    "    if im.height > im.width:\n",
    "        im.transpose(Image.ROTATE_90).resize((880,660))\\\n",
    "        .save(fp='/home/beto/Desktop/perritos/{}{}.jpg'.format(perrito,i), format='jpeg')\n",
    "    else:\n",
    "        im.resize((880,660))\\\n",
    "        .save(fp='/home/beto/Desktop/perritos/{}{}.jpg'.format(perrito,i), format='jpeg')    \n",
    "    if i % 100 == 0: print(i // 100)\n",
    "    i += 1\n",
    "#TODO katy"
   ]
  },
  {
   "cell_type": "code",
   "execution_count": null,
   "metadata": {},
   "outputs": [],
   "source": []
  }
 ],
 "metadata": {
  "kernelspec": {
   "display_name": "Python 3",
   "language": "python",
   "name": "python3"
  },
  "language_info": {
   "codemirror_mode": {
    "name": "ipython",
    "version": 3
   },
   "file_extension": ".py",
   "mimetype": "text/x-python",
   "name": "python",
   "nbconvert_exporter": "python",
   "pygments_lexer": "ipython3",
   "version": "3.8.5"
  }
 },
 "nbformat": 4,
 "nbformat_minor": 4
}
