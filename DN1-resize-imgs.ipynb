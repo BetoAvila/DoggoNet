{
 "cells": [
  {
   "cell_type": "code",
   "execution_count": 1,
   "metadata": {},
   "outputs": [
    {
     "name": "stdout",
     "output_type": "stream",
     "text": [
      "1\n",
      "2\n",
      "3\n",
      "4\n",
      "5\n",
      "6\n",
      "7\n",
      "8\n",
      "9\n",
      "10\n",
      "11\n",
      "12\n",
      "13\n",
      "14\n",
      "15\n",
      "16\n",
      "17\n",
      "18\n",
      "19\n",
      "20\n",
      "21\n",
      "22\n",
      "23\n",
      "24\n",
      "25\n",
      "26\n",
      "27\n",
      "28\n",
      "29\n",
      "30\n",
      "31\n",
      "32\n",
      "33\n",
      "34\n",
      "35\n",
      "36\n",
      "37\n",
      "38\n",
      "39\n",
      "40\n"
     ]
    }
   ],
   "source": [
    "# importing all necesary libraries always\n",
    "from pathlib import Path\n",
    "from PIL import Image\n",
    "import glob, os\n",
    "import keras as K\n",
    "from keras.models import Sequential\n",
    "from keras.layers import Dense, Dropout, Flatten\n",
    "from keras.layers import Conv2D, MaxPooling2D\n",
    "import numpy as np\n",
    "\n",
    "# Resize images\n",
    "path = \"/home/beto/Documents/projects/DoggoNet/\"\n",
    "size = (720, 540)\n",
    "i = 1\n",
    "for infile in glob.glob(path + \"perritos_org/*.jpeg\"): # for all jpg files\n",
    "    file, ext = os.path.splitext(infile)\n",
    "    im = Image.open(infile)              # open them\n",
    "    if 'jack' in file.lower():         # lowercase their names\n",
    "        perrito = 'jack'\n",
    "    elif 'volt' in file.lower():\n",
    "        perrito = 'volt'\n",
    "    elif 'luna' in file.lower():\n",
    "        perrito = 'luna'\n",
    "    elif 'katy' in file.lower():\n",
    "        perrito = 'katy'                 \n",
    "    \n",
    "    # resize them and save them\n",
    "    if im.height > im.width:\n",
    "        im.transpose(Image.ROTATE_90).resize(size)\\\n",
    "        .save(fp = path + 'perritos/{}{}.jpeg'.format(perrito,i), format='jpeg')\n",
    "    else:\n",
    "        im.resize(size)\\\n",
    "        .save(fp = path + 'perritos/{}{}.jpeg'.format(perrito,i), format='jpeg')    \n",
    "    if i % 100 == 0: print(i // 400, 'out of', 10)\n",
    "    i += 1\n",
    "#TODO katy"
   ]
  },
  {
   "cell_type": "code",
   "execution_count": null,
   "metadata": {},
   "outputs": [],
   "source": []
  }
 ],
 "metadata": {
  "kernelspec": {
   "display_name": "Python 3",
   "language": "python",
   "name": "python3"
  },
  "language_info": {
   "codemirror_mode": {
    "name": "ipython",
    "version": 3
   },
   "file_extension": ".py",
   "mimetype": "text/x-python",
   "name": "python",
   "nbconvert_exporter": "python",
   "pygments_lexer": "ipython3",
   "version": "3.6.12"
  }
 },
 "nbformat": 4,
 "nbformat_minor": 4
}
