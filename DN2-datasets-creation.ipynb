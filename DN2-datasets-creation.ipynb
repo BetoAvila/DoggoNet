{
 "cells": [
  {
   "cell_type": "code",
   "execution_count": 1,
   "metadata": {},
   "outputs": [],
   "source": [
    "from pathlib import Path\n",
    "from PIL import Image\n",
    "import glob, os\n",
    "import keras as K\n",
    "from keras.models import Sequential\n",
    "from keras.layers import Dense, Dropout, Flatten\n",
    "from keras.layers import Conv2D, MaxPooling2D\n",
    "import numpy as np"
   ]
  },
  {
   "cell_type": "code",
   "execution_count": null,
   "metadata": {},
   "outputs": [
    {
     "name": "stdout",
     "output_type": "stream",
     "text": [
      "1\n",
      "2\n",
      "3\n",
      "4\n",
      "5\n",
      "6\n",
      "7\n"
     ]
    }
   ],
   "source": [
    "# Appending datapoints\n",
    "path = \"/home/beto/Documents/projects/DoggoNet/perritos/\"      # location of resized images\n",
    "dat = []\n",
    "etq = []\n",
    "i = 1\n",
    "for infile in glob.glob(path + '*.jpeg'):       # for every jpeg file\n",
    "    im = Image.open(infile)                     # open every file\n",
    "    im = np.asarray(im)                         # convert it as np.array()\n",
    "    im = np.divide(im, 255.0, dtype=np.float16) # divide it by 255.0 to scale pixels values\n",
    "    dat.append(im)                              # and then apend it to the datos list\n",
    "    if 'jack' in infile.lower():                # append the numeric label to each dog\n",
    "        etq.append(np.asarray([0.0]))\n",
    "    if 'luna' in infile.lower():\n",
    "        etq.append(np.asarray([1.0]))\n",
    "    if 'volt' in infile.lower():\n",
    "        etq.append(np.asarray([2.0]))\n",
    "    if 'katy' in infile.lower():       \n",
    "        etq.append(np.asarray([3.0]))\n",
    "    if i % 400 == 0: print(i // 400)\n",
    "    i += 1"
   ]
  },
  {
   "cell_type": "code",
   "execution_count": null,
   "metadata": {},
   "outputs": [],
   "source": [
    "# Creating np arrays from labels and datapoints\n",
    "dat = np.asarray(dat, dtype=np.float16)\n",
    "etq = np.asarray(etq, dtype=np.int8)"
   ]
  },
  {
   "cell_type": "code",
   "execution_count": null,
   "metadata": {},
   "outputs": [],
   "source": [
    "# Splitting data in trainig and test sets for further validation set split\n",
    "# Proportions are train set 50%, validation set 35%, test set 15%\n",
    "from sklearn.model_selection import train_test_split\n",
    "X_train, X_test, y_train, y_test = train_test_split(dat, etq, train_size=0.9, random_state=42)"
   ]
  },
  {
   "cell_type": "code",
   "execution_count": null,
   "metadata": {},
   "outputs": [],
   "source": [
    "# Save datasets as .npz file\n",
    "np.savez_compressed('DN-dataset.npz', X_train=X_train, X_test=X_test, y_train=y_train, y_test=y_test)"
   ]
  },
  {
   "cell_type": "code",
   "execution_count": null,
   "metadata": {},
   "outputs": [],
   "source": []
  }
 ],
 "metadata": {
  "colab": {
   "collapsed_sections": [],
   "name": "doggo_net.ipynb",
   "provenance": []
  },
  "kernelspec": {
   "display_name": "Python 3",
   "language": "python",
   "name": "python3"
  },
  "language_info": {
   "codemirror_mode": {
    "name": "ipython",
    "version": 3
   },
   "file_extension": ".py",
   "mimetype": "text/x-python",
   "name": "python",
   "nbconvert_exporter": "python",
   "pygments_lexer": "ipython3",
   "version": "3.6.12"
  }
 },
 "nbformat": 4,
 "nbformat_minor": 4
}
